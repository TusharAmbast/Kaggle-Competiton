{
 "cells": [
  {
   "cell_type": "code",
   "execution_count": 3,
   "id": "d662ccfa-82a2-4946-b3dd-d84050ca4c75",
   "metadata": {},
   "outputs": [],
   "source": [
    "\n",
    "import pandas as pd\n",
    "from sklearn.model_selection import train_test_split\n",
    "from sklearn.ensemble import RandomForestClassifier\n",
    "from sklearn.impute import SimpleImputer\n",
    "from sklearn.metrics import classification_report\n"
   ]
  },
  {
   "cell_type": "code",
   "execution_count": 4,
   "id": "5a83206b-11a2-4248-8710-88d3068ca09f",
   "metadata": {},
   "outputs": [],
   "source": [
    "\n",
    "train_df = pd.read_csv('Train_Data.csv')\n",
    "test_df = pd.read_csv('Test_Data.csv')\n",
    "sample_submission = pd.read_csv('Sample_Submission.csv')\n"
   ]
  },
  {
   "cell_type": "code",
   "execution_count": 5,
   "id": "c924e2d5-9265-48e4-885b-5e0486dd9e96",
   "metadata": {},
   "outputs": [],
   "source": [
    "#Encode Target Variable (Adult=0, Senior=1)\n",
    "train_df['age_group'] = train_df['age_group'].map({'Adult': 0, 'Senior': 1})\n",
    "\n",
    "# Drop rows where target is missing\n",
    "train_df = train_df.dropna(subset=['age_group'])\n"
   ]
  },
  {
   "cell_type": "code",
   "execution_count": 6,
   "id": "6e8a29b2-f9d0-4937-900d-9bec214a6519",
   "metadata": {},
   "outputs": [],
   "source": [
    "\n",
    "X = train_df.drop(columns=['SEQN', 'age_group'])  # Drop ID and target\n",
    "y = train_df['age_group']\n",
    "\n",
    "X_test = test_df.drop(columns=['SEQN'])  # Drop ID column\n"
   ]
  },
  {
   "cell_type": "code",
   "execution_count": 7,
   "id": "36be4932-7297-4594-b515-a7732940c9c9",
   "metadata": {},
   "outputs": [],
   "source": [
    "\n",
    "imputer = SimpleImputer(strategy='mean')\n",
    "X_imputed = imputer.fit_transform(X)\n",
    "X_test_imputed = imputer.transform(X_test)\n"
   ]
  },
  {
   "cell_type": "code",
   "execution_count": 8,
   "id": "87719ee9-7a13-4e45-98bb-a8a3c5199369",
   "metadata": {},
   "outputs": [],
   "source": [
    "\n",
    "X_train, X_val, y_train, y_val = train_test_split(X_imputed, y, test_size=0.2, random_state=42)\n"
   ]
  },
  {
   "cell_type": "code",
   "execution_count": 9,
   "id": "16ab0301-023a-438e-9ab9-2695346de847",
   "metadata": {},
   "outputs": [
    {
     "name": "stdout",
     "output_type": "stream",
     "text": [
      "              precision    recall  f1-score   support\n",
      "\n",
      "         0.0       0.89      0.96      0.92       340\n",
      "         1.0       0.41      0.18      0.25        51\n",
      "\n",
      "    accuracy                           0.86       391\n",
      "   macro avg       0.65      0.57      0.58       391\n",
      "weighted avg       0.82      0.86      0.83       391\n",
      "\n"
     ]
    }
   ],
   "source": [
    "el\n",
    "model = RandomForestClassifier(random_state=42)\n",
    "model.fit(X_train, y_train)\n",
    "\n",
    "# Validate\n",
    "y_val_pred = model.predict(X_val)\n",
    "print(classification_report(y_val, y_val_pred))\n"
   ]
  },
  {
   "cell_type": "code",
   "execution_count": 10,
   "id": "58c26c0d-ff77-4451-b838-7fe71570658c",
   "metadata": {},
   "outputs": [],
   "source": [
    "\n",
    "test_predictions = model.predict(X_test_imputed).astype(int)\n"
   ]
  },
  {
   "cell_type": "code",
   "execution_count": 11,
   "id": "8c7660f5-39a9-4356-8d81-b3e300c9745b",
   "metadata": {},
   "outputs": [],
   "source": [
    "\n",
    "submission = pd.DataFrame({'age_group': test_predictions})\n",
    "submission.to_csv('final_submission.csv', index=False)\n"
   ]
  },
  {
   "cell_type": "code",
   "execution_count": null,
   "id": "0eb7571e-2b29-44a3-be07-6b08e3405abc",
   "metadata": {},
   "outputs": [],
   "source": []
  }
 ],
 "metadata": {
  "kernelspec": {
   "display_name": "Python 3 (ipykernel)",
   "language": "python",
   "name": "python3"
  },
  "language_info": {
   "codemirror_mode": {
    "name": "ipython",
    "version": 3
   },
   "file_extension": ".py",
   "mimetype": "text/x-python",
   "name": "python",
   "nbconvert_exporter": "python",
   "pygments_lexer": "ipython3",
   "version": "3.12.6"
  }
 },
 "nbformat": 4,
 "nbformat_minor": 5
}
